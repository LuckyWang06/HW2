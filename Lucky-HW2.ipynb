{
  "nbformat": 4,
  "nbformat_minor": 0,
  "metadata": {
    "colab": {
      "provenance": []
    },
    "kernelspec": {
      "name": "python3",
      "display_name": "Python 3"
    },
    "language_info": {
      "name": "python"
    }
  },
  "cells": [
    {
      "cell_type": "markdown",
      "source": [
        "Monty Hall problem (Q1-3)"
      ],
      "metadata": {
        "id": "YYet0uFhiYGN"
      }
    },
    {
      "cell_type": "markdown",
      "source": [
        "Preferred version of code"
      ],
      "metadata": {
        "id": "5YWtjLHkdnSf"
      }
    },
    {
      "cell_type": "code",
      "execution_count": 1,
      "metadata": {
        "colab": {
          "base_uri": "https://localhost:8080/"
        },
        "id": "5qA4_LamqoN8",
        "outputId": "a8c23e9e-a964-4973-8328-b1c6a442f181"
      },
      "outputs": [
        {
          "output_type": "stream",
          "name": "stdout",
          "text": [
            "0.66722\n"
          ]
        }
      ],
      "source": [
        "import numpy as np\n",
        "\n",
        "all_doors = [1, 2, 3]  # list of doors that can be chosen\n",
        "my_door_choice = 1      # Initial door choice\n",
        "wins = 0                # Counter for wins\n",
        "reps = 100000           # Number of simulations\n",
        "\n",
        "for _ in range(reps):# for loop to run the loop for (reps) time\n",
        "    winning_door = np.random.choice(all_doors)  # Randomly pick the winning door\n",
        "    remaining_doors = [door for door in all_doors if door != my_door_choice]  # Remove chosen door\n",
        "\n",
        "    # Reveal a goat door (not the winning door, if still available)\n",
        "    goat_door = np.random.choice([door for door in remaining_doors if door != winning_door])#pick a door from door list that removed the winning door\n",
        "\n",
        "    # Switch to the remaining unopened door\n",
        "    switch_door = [door for door in all_doors if door not in [my_door_choice, goat_door]][0]#choose the door which is differnent from initial chosen door, nor the goat_door that was revealed\n",
        "\n",
        "    # Check if switching wins\n",
        "    if switch_door == winning_door:\n",
        "        wins += 1\n",
        "\n",
        "# Output the probability of winning by switching\n",
        "print(wins / reps)\n"
      ]
    },
    {
      "cell_type": "markdown",
      "source": [
        "From the perspective of easiness to understand the code, I prefer the version that is simplified and improved by chatgpt. First, it's shorter since all the unnecessary codes are deleted, every step left is the key step to make the game work. In this way, I can understand the function of each step easily. The name of variables reveals the meaning more clearly after the improvement, which make me feel easier to understand what the variable name represent as part of the game."
      ],
      "metadata": {
        "id": "8237aYQreMW-"
      }
    },
    {
      "cell_type": "markdown",
      "source": [
        "link of chat history with Chatgpt:\n",
        "https://chatgpt.com/share/66eb1adf-7360-8008-afbe-c93dc4576704"
      ],
      "metadata": {
        "id": "X0M5WEr8doDn"
      }
    },
    {
      "cell_type": "markdown",
      "source": [],
      "metadata": {
        "id": "uwdwo0ZwkrCA"
      }
    },
    {
      "cell_type": "code",
      "source": [],
      "metadata": {
        "id": "kDWYosbP4273"
      },
      "execution_count": null,
      "outputs": []
    },
    {
      "cell_type": "markdown",
      "source": [
        "Markovian Chatbot (Q4-9)"
      ],
      "metadata": {
        "id": "2Us8cKG3krm7"
      }
    },
    {
      "cell_type": "markdown",
      "source": [
        "link of chat history:https://chatgpt.com/share/66eb3c2e-9784-8008-8168-6b54b1442ff3"
      ],
      "metadata": {
        "id": "YxrdlsmBo9SM"
      }
    },
    {
      "cell_type": "markdown",
      "source": [
        "Q6：1)The Chatbot is extremely fast at analyzing code. It is able to describe the overall purpose of the code and the function of each line of code very clearly. At the same time, it will also list important variables in the code and give explanation on it, so that students can clearly understand what each variable represents.\n",
        "\n",
        "2)Chatbot is able to understand the code clearly and quickly, and it also learns to improve itself after I provide it with prompt. When asking chatbot to improve the monty hall problem code, it provides clear explanation of what it has changed and how it contributes to make the code clear and easy to understand.\n",
        "\n",
        "3)Chatbot is good tool to use for learing coding, however, it's only able to understand basic simple codes. Complex code such as \"nested_dict = lambda: defaultdict(nested_dict)\" is hard for it to give a clear explanation. Therefore, I think chatbot is a good tool for beginners to learn coding. But with people who have basic knowledages of coding, it's not that helpful."
      ],
      "metadata": {
        "id": "lQPvEg1KAsQe"
      }
    },
    {
      "cell_type": "markdown",
      "source": [
        "Q7:I have never tried to use AI to learn coding before I join the class, but after starting to use AI as tool to study coding in class, I find out that AI is a very convenient and useful tool to study coding. First, it understands the code in fast speed and is able to explain the usage of every line clearly, which allows students to get familiar with codes quicly. Also, due to its access to huge amounts of data, it can train itself by analyzing the massive data, which can improve its accuracies and speed. Therefore, I believe AI is a good tool for learners of coding, statistics, and data science."
      ],
      "metadata": {
        "id": "z_WEwpR7BM9A"
      }
    },
    {
      "cell_type": "markdown",
      "source": [
        "Q8:\n",
        "link of chat history:https://chatgpt.com/share/66ecba1b-521c-8008-9d06-1d89e57a50e9\n",
        "\n",
        "Since I plan to do job related to finance and economics in future, I need to learn how to analyse data,graph and model, since economics is a major which has to find the trend of world or country's economy. There are also some skills that are important for all kinds of job, such as communication, problem solving, research and critical thinking. In order to acquire these skills, I need to be independent mentally and physically, communicate with multiple parties by myself when I face problems. Also, I should express yourself in your favorite field. At the same time, I also need to cultivate my own innovative thinking skills by always think about whether there are more diverse ways to solve things.\n",
        "I do think AI can provide some useful advice, but its recommendations for different careers are too closely aligned. It's hard for AI to provide specific informations and support for each career. If I want it to give more specific and career-related advice, I might focus on asking professional questions."
      ],
      "metadata": {
        "id": "5tkFYewG4Bgi"
      }
    },
    {
      "cell_type": "markdown",
      "source": [
        "Q9: Yes, I use chatgpt to learn the codes in lecture."
      ],
      "metadata": {
        "id": "vF6F0CBJyE1h"
      }
    }
  ]
}